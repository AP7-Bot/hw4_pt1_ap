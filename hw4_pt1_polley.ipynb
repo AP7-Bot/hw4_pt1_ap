{
 "cells": [
  {
   "cell_type": "markdown",
   "id": "69d3fdb9-cddb-435d-8a12-13f658ab00cb",
   "metadata": {},
   "source": [
    "# Advent of Code 2021 Day 1"
   ]
  },
  {
   "cell_type": "code",
   "execution_count": 1,
   "id": "09e2193f-99ec-4c73-8890-ca53fd99de35",
   "metadata": {},
   "outputs": [
    {
     "data": {
      "text/plain": [
       "[155, 157, 156, 172, 170, 186, 198, 189, 207, 213]"
      ]
     },
     "execution_count": 1,
     "metadata": {},
     "output_type": "execute_result"
    }
   ],
   "source": [
    "# Read the input data from a file\n",
    "with open(\"input.txt\") as file:\n",
    "    depths = [int(line.strip()) for line in file]\n",
    "# Display data\n",
    "depths[:10]"
   ]
  },
  {
   "cell_type": "code",
   "execution_count": 2,
   "id": "d88b8f9e-5e44-4453-9317-0720c70c98d3",
   "metadata": {},
   "outputs": [
    {
     "name": "stdout",
     "output_type": "stream",
     "text": [
      "Part 1 Answer: 1713\n"
     ]
    }
   ],
   "source": [
    "# Part 1 - Count the times the depth increases\n",
    "\n",
    "# We will start with 0\n",
    "pt1_count = 0\n",
    "\n",
    "# Go through the list starting at the second number\n",
    "for i in range(1, len(depths)):\n",
    "    #compare the number to the former\n",
    "    if depths[i] > depths[i - 1]:\n",
    "        pt1_count += 1 \n",
    "\n",
    "# Result\n",
    "print(\"Part 1 Answer:\", pt1_count)"
   ]
  },
  {
   "cell_type": "code",
   "execution_count": 3,
   "id": "6cf8cb13-4e56-4db5-b395-ccb26731948b",
   "metadata": {},
   "outputs": [
    {
     "name": "stdout",
     "output_type": "stream",
     "text": [
      "Part 2 Answer: 1734\n"
     ]
    }
   ],
   "source": [
    "# Part 2 - Sliding window of 3-measurement sums\n",
    "\n",
    "# We will start with 0\n",
    "pt2_count = 0\n",
    "\n",
    "# Start from the third index and compare each window to the former\n",
    "for i in range(3, len(depths)):\n",
    "    # The previous window is elements at i3, i2, i1\n",
    "    prev_sum = depths[i - 3] + depths[i - 2] + depths[i - 1]\n",
    "    # The current window is elements at i2, i1, i\n",
    "    current_sum = depths[i - 2] + depths[i - 1] + depths[i]\n",
    "    # Compare\n",
    "    if current_sum > prev_sum:\n",
    "        pt2_count += 1\n",
    "\n",
    "# Result\n",
    "print(\"Part 2 Answer:\", pt2_count)"
   ]
  }
 ],
 "metadata": {
  "kernelspec": {
   "display_name": "Python 3 (ipykernel)",
   "language": "python",
   "name": "python3"
  },
  "language_info": {
   "codemirror_mode": {
    "name": "ipython",
    "version": 3
   },
   "file_extension": ".py",
   "mimetype": "text/x-python",
   "name": "python",
   "nbconvert_exporter": "python",
   "pygments_lexer": "ipython3",
   "version": "3.12.7"
  }
 },
 "nbformat": 4,
 "nbformat_minor": 5
}
